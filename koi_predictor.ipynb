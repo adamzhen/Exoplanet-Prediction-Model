{
 "cells": [
  {
   "cell_type": "markdown",
   "id": "27d5ee5a",
   "metadata": {},
   "source": [
    "# Exoplanet Predictions\n",
    "*By Adam Zheng*"
   ]
  },
  {
   "cell_type": "markdown",
   "id": "af132531",
   "metadata": {},
   "source": [
    "> ### NOTE:\n",
    "> Predictions from this program are most likely not accurate enough to be used for scientific purposes. The data used in the training of this model is indeed sourced from __[NASA Exoplanet Archive's data on Kepler Objects of Interest (KOIs)](https://exoplanetarchive.ipac.caltech.edu/cgi-bin/TblView/nph-tblView?app=ExoTbls&config=cumulative)__. And I was able to obtain a 91.52% accuracy rate when testing this model on data it hadn't encountered in training (*see koi_models). However, it was not thoroughly or professionally vetted for potential issues, and the training was only done using 13 features, so these results may not reflect the actual accuracy of the model. In the end, this program was created largely just as a way for me to practice machine learning in Python. As such, this program should be taken with a grain (or perhaps a bucketload) of salt."
   ]
  },
  {
   "cell_type": "markdown",
   "id": "837d0c05",
   "metadata": {},
   "source": [
    "#### The options for entering data input are as follows:\n",
    "1. Enter a KOI Name for a KOI candidate that the model has already predicted (should work for almost all KOI candidates)\n",
    "2. Make predictions using your own CSV file with data values\n",
    "3. Manually enter data values for each of your entries\n",
    "\n",
    "##### The required features are (for options 2 & 3):\n",
    "1. Orbital Period (days)\n",
    "2. Transit Epoch (BJD - 2,454,833.0)\n",
    "3. Impact Parameter\n",
    "4. Transit Duration (hours)\n",
    "5. Transit Depth (parts per million)\n",
    "6. Planetary Radius (Earth radii)\n",
    "7. Equilibrium Temperature (Kelvin)\n",
    "8. Transit Signal-to-Noise\n",
    "9. Stellar Effective Temperature (Kelvin)\n",
    "10. Stellar Radius (solar radii)\n",
    "11. Right Ascension (deg)\n",
    "12. Declination (deg)\n",
    "13. Kepler-band (mag)\n",
    ">*For more detailed information on the features: https://exoplanetarchive.ipac.caltech.edu/docs/API_kepcandidate_columns.html*"
   ]
  },
  {
   "cell_type": "code",
   "execution_count": null,
   "id": "a9039dd2",
   "metadata": {},
   "outputs": [],
   "source": [
    "# MUST RUN THIS CODE\n",
    "import joblib\n",
    "import numpy as np\n",
    "import pandas as pd\n",
    "import warnings\n",
    "import time\n",
    "warnings.filterwarnings('ignore', category=FutureWarning)\n",
    "warnings.filterwarnings('ignore', category=DeprecationWarning)\n",
    "\n",
    "koi_model = joblib.load('model_training/GB_koi_model.pkl')"
   ]
  },
  {
   "cell_type": "markdown",
   "id": "041c7ba9",
   "metadata": {},
   "source": [
    "### 1) Find Existing KOI Candidates"
   ]
  },
  {
   "cell_type": "code",
   "execution_count": null,
   "id": "9478e72a",
   "metadata": {},
   "outputs": [],
   "source": [
    "cand_pred = pd.read_csv(\"koi_candidate_predictions.csv\")\n",
    "valid_input = False\n",
    "while not valid_input:\n",
    "    try:\n",
    "        cand = input(\"Enter a KOI Name: \").strip()\n",
    "        if len(cand) == 9 and cand[0]=='K':\n",
    "            valid_input = True\n",
    "        else:\n",
    "            print(\"\\tERROR: PLEASE ENTER A VALID KOI NAME (ex. K00760.01)\")\n",
    "    except:\n",
    "        print(\"\\tERROR: PLEASE ENTER A VALID KOI NAME (ex. K00760.01)\")\n",
    "if cand in cand_pred[\"KOI Name\"].unique():\n",
    "    ind = cand_pred[cand_pred['KOI Name']==cand].index.values[0]\n",
    "    print(\"\\n- SEARCH SUCCESSFUL -\")\n",
    "    print(f'{cand} was predicted as {cand_pred.loc[ind].at[\"Exoplanet Prediction\"]}')\n",
    "else:\n",
    "    print(f\"{cand} was not found in our list of existing KOI candidates.\")"
   ]
  },
  {
   "cell_type": "markdown",
   "id": "a57a6c80",
   "metadata": {},
   "source": [
    "### 2) Use Your CSV File"
   ]
  },
  {
   "cell_type": "markdown",
   "id": "92627270",
   "metadata": {},
   "source": [
    "*PLEASE UPLOAD YOUR CSV FILE TO THE SAME FOLDER AS THIS PREDICTOR PROGRAM BEFORE PROCEEDING.*"
   ]
  },
  {
   "cell_type": "code",
   "execution_count": null,
   "id": "d3960c72",
   "metadata": {},
   "outputs": [],
   "source": [
    "valid_input = False\n",
    "while not valid_input:\n",
    "    try:\n",
    "        csv_name = input(\"Enter the file name of your CSV file: \").strip()\n",
    "        data = pd.read_csv(csv_name)\n",
    "        valid_input = True\n",
    "    except:\n",
    "        print(\"\\tERROR: PLEASE ENTER A VALID CSV FILE NAME\")\n",
    "predictions = pd.DataFrame(koi_model.predict(data), columns=[\"Prediction\"])\n",
    "compiled_predictions = pd.concat([predictions, data], axis=1)\n",
    "compiled_predictions.to_csv('YOUR_PREDICTIONS.csv', index=False)\n",
    "print(\"\\n- PREDICTIONS COMPLETED -\")\n",
    "print(\"The prediction results have also been exported as a CSV file called YOUR_PREDICTIONS.csv\")\n",
    "compiled_predictions"
   ]
  },
  {
   "cell_type": "markdown",
   "id": "49e33d91",
   "metadata": {},
   "source": [
    "### 3) Manual Input"
   ]
  },
  {
   "cell_type": "code",
   "execution_count": null,
   "id": "3e4c8546",
   "metadata": {
    "scrolled": false
   },
   "outputs": [],
   "source": [
    "from IPython.display import display, HTML\n",
    "\n",
    "model_params = ['koi_period', 'koi_time0bk', 'koi_impact', 'koi_duration', 'koi_depth', 'koi_prad', 'koi_teq', 'koi_model_snr', \n",
    "                'koi_steff', 'koi_srad', 'ra', 'dec', 'koi_kepmag']\n",
    "display_params = ['Orbital Period (days)', 'Transit Epoch (BJD - 2,454,833.0)', 'Impact Parameter', 'Transit Duration (hours)', \n",
    "                  'Transit Depth (parts per million)', 'Planetary Radius (Earth radii)', 'Equilibrium Temperature (Kelvin)', \n",
    "                  'Transit Signal-to-Noise', 'Stellar Effective Temperature (Kelvin)', 'Stellar Radius (solar radii)', \n",
    "                  'Right Ascension (deg)', 'Declination (deg)', 'Kepler-band (mag)']\n",
    "test_params = [1.0]*13 # purely for testing purposes\n",
    "input_vals = [[0]*13]\n",
    "\n",
    "# USER INPUT\n",
    "valid_input = False\n",
    "stop = False\n",
    "while not valid_input:\n",
    "    try:\n",
    "        num_inputs = int(input(\"How many entries would you like to make? \").strip())\n",
    "        if num_inputs >= 1:\n",
    "            valid_input = True\n",
    "        else:\n",
    "            print(\"\\tERROR: PLEASE ENTER A POSITIVE INTEGER \")\n",
    "    except:\n",
    "        print(\"\\tERROR: PLEASE ENTER A POSITIVE INTEGER \")\n",
    "print(\"  *If at any point, you would like to terminate the program, simply enter 'stop'\")\n",
    "for entry in range(num_inputs):\n",
    "    if stop:\n",
    "        break\n",
    "    temp_list = []\n",
    "    print(f\"\\n--- ENTRY #{entry+1} ---\")\n",
    "    for i in range(len(display_params)):\n",
    "        if stop:\n",
    "            break\n",
    "        valid_input = False\n",
    "        while not valid_input:\n",
    "            if stop:\n",
    "                break\n",
    "            try:\n",
    "                temp = input(f'Enter the {display_params[i]}: ').strip()\n",
    "                if temp in [\"stop\", \"'stop'\"]:\n",
    "                    stop = True\n",
    "                    break\n",
    "                temp_list.append(float(temp))\n",
    "                #temp_list.append(test_params[i])\n",
    "                valid_input = True\n",
    "            except:\n",
    "                print(\"\\tERROR: PLEASE ENTER A NUMBER\")\n",
    "    input_vals.insert(entry, temp_list)\n",
    "\n",
    "# RUN MODEL\n",
    "if not stop:\n",
    "    params = pd.DataFrame(np.array(input_vals), columns=model_params)\n",
    "    params.drop(index=num_inputs, inplace=True)\n",
    "    pred = koi_model.predict(params)\n",
    "    print(\"\\n--- PREDICTIONS ---\")\n",
    "    for i in range(len(pred)):\n",
    "        print(f'{i+1}) {pred[i]}')\n",
    "    print(\"\\n--- FULL DATA TABLE ---\")\n",
    "    predictions = pd.DataFrame(pred, columns=[\"Prediction\"])\n",
    "    compiled_predictions = pd.concat([predictions, params], axis=1)\n",
    "    compiled_predictions.rename(columns=dict(zip(model_params, display_params)), inplace=True)\n",
    "    display(compiled_predictions)\n",
    "    compiled_predictions.to_csv('YOUR_PREDICTIONS.csv', index=False)\n",
    "    print(\"The prediction results have been exported as a CSV file called YOUR_PREDICTIONS.csv\")\n",
    "else:\n",
    "    print(\"PROGRAM ENDED\")"
   ]
  }
 ],
 "metadata": {
  "kernelspec": {
   "display_name": "Python 3 (ipykernel)",
   "language": "python",
   "name": "python3"
  },
  "language_info": {
   "codemirror_mode": {
    "name": "ipython",
    "version": 3
   },
   "file_extension": ".py",
   "mimetype": "text/x-python",
   "name": "python",
   "nbconvert_exporter": "python",
   "pygments_lexer": "ipython3",
   "version": "3.9.7"
  }
 },
 "nbformat": 4,
 "nbformat_minor": 5
}
