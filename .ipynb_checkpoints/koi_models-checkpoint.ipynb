{
 "cells": [
  {
   "cell_type": "markdown",
   "id": "c4194d51",
   "metadata": {},
   "source": [
    "# KOI Model Training\n",
    "*By Adam Zheng*\n",
    "> Github Repository: https://github.com/adz888/Exoplanet-Prediction-Model"
   ]
  },
  {
   "cell_type": "markdown",
   "id": "3b66da3f",
   "metadata": {},
   "source": [
    "### Read in KOI Data"
   ]
  },
  {
   "cell_type": "code",
   "execution_count": 42,
   "id": "881773f4",
   "metadata": {},
   "outputs": [
    {
     "data": {
      "text/html": [
       "<div>\n",
       "<style scoped>\n",
       "    .dataframe tbody tr th:only-of-type {\n",
       "        vertical-align: middle;\n",
       "    }\n",
       "\n",
       "    .dataframe tbody tr th {\n",
       "        vertical-align: top;\n",
       "    }\n",
       "\n",
       "    .dataframe thead th {\n",
       "        text-align: right;\n",
       "    }\n",
       "</style>\n",
       "<table border=\"1\" class=\"dataframe\">\n",
       "  <thead>\n",
       "    <tr style=\"text-align: right;\">\n",
       "      <th></th>\n",
       "      <th>kepid</th>\n",
       "      <th>kepoi_name</th>\n",
       "      <th>koi_disposition</th>\n",
       "      <th>koi_period</th>\n",
       "      <th>koi_time0bk</th>\n",
       "      <th>koi_impact</th>\n",
       "      <th>koi_duration</th>\n",
       "      <th>koi_depth</th>\n",
       "      <th>koi_prad</th>\n",
       "      <th>koi_teq</th>\n",
       "      <th>koi_model_snr</th>\n",
       "      <th>koi_steff</th>\n",
       "      <th>koi_srad</th>\n",
       "      <th>ra</th>\n",
       "      <th>dec</th>\n",
       "      <th>koi_kepmag</th>\n",
       "    </tr>\n",
       "  </thead>\n",
       "  <tbody>\n",
       "    <tr>\n",
       "      <th>0</th>\n",
       "      <td>10797460</td>\n",
       "      <td>K00752.01</td>\n",
       "      <td>CONFIRMED</td>\n",
       "      <td>9.488036</td>\n",
       "      <td>170.538750</td>\n",
       "      <td>0.146</td>\n",
       "      <td>2.95750</td>\n",
       "      <td>615.8</td>\n",
       "      <td>2.26</td>\n",
       "      <td>793.0</td>\n",
       "      <td>35.8</td>\n",
       "      <td>5455.0</td>\n",
       "      <td>0.927</td>\n",
       "      <td>291.93423</td>\n",
       "      <td>48.141651</td>\n",
       "      <td>15.347</td>\n",
       "    </tr>\n",
       "    <tr>\n",
       "      <th>1</th>\n",
       "      <td>10797460</td>\n",
       "      <td>K00752.02</td>\n",
       "      <td>CONFIRMED</td>\n",
       "      <td>54.418383</td>\n",
       "      <td>162.513840</td>\n",
       "      <td>0.586</td>\n",
       "      <td>4.50700</td>\n",
       "      <td>874.8</td>\n",
       "      <td>2.83</td>\n",
       "      <td>443.0</td>\n",
       "      <td>25.8</td>\n",
       "      <td>5455.0</td>\n",
       "      <td>0.927</td>\n",
       "      <td>291.93423</td>\n",
       "      <td>48.141651</td>\n",
       "      <td>15.347</td>\n",
       "    </tr>\n",
       "    <tr>\n",
       "      <th>2</th>\n",
       "      <td>10811496</td>\n",
       "      <td>K00753.01</td>\n",
       "      <td>CANDIDATE</td>\n",
       "      <td>19.899140</td>\n",
       "      <td>175.850252</td>\n",
       "      <td>0.969</td>\n",
       "      <td>1.78220</td>\n",
       "      <td>10829.0</td>\n",
       "      <td>14.60</td>\n",
       "      <td>638.0</td>\n",
       "      <td>76.3</td>\n",
       "      <td>5853.0</td>\n",
       "      <td>0.868</td>\n",
       "      <td>297.00482</td>\n",
       "      <td>48.134129</td>\n",
       "      <td>15.436</td>\n",
       "    </tr>\n",
       "    <tr>\n",
       "      <th>3</th>\n",
       "      <td>10848459</td>\n",
       "      <td>K00754.01</td>\n",
       "      <td>FALSE POSITIVE</td>\n",
       "      <td>1.736952</td>\n",
       "      <td>170.307565</td>\n",
       "      <td>1.276</td>\n",
       "      <td>2.40641</td>\n",
       "      <td>8079.2</td>\n",
       "      <td>33.46</td>\n",
       "      <td>1395.0</td>\n",
       "      <td>505.6</td>\n",
       "      <td>5805.0</td>\n",
       "      <td>0.791</td>\n",
       "      <td>285.53461</td>\n",
       "      <td>48.285210</td>\n",
       "      <td>15.597</td>\n",
       "    </tr>\n",
       "    <tr>\n",
       "      <th>4</th>\n",
       "      <td>10854555</td>\n",
       "      <td>K00755.01</td>\n",
       "      <td>CONFIRMED</td>\n",
       "      <td>2.525592</td>\n",
       "      <td>171.595550</td>\n",
       "      <td>0.701</td>\n",
       "      <td>1.65450</td>\n",
       "      <td>603.3</td>\n",
       "      <td>2.75</td>\n",
       "      <td>1406.0</td>\n",
       "      <td>40.9</td>\n",
       "      <td>6031.0</td>\n",
       "      <td>1.046</td>\n",
       "      <td>288.75488</td>\n",
       "      <td>48.226200</td>\n",
       "      <td>15.509</td>\n",
       "    </tr>\n",
       "  </tbody>\n",
       "</table>\n",
       "</div>"
      ],
      "text/plain": [
       "      kepid kepoi_name koi_disposition  koi_period  koi_time0bk  koi_impact  \\\n",
       "0  10797460  K00752.01       CONFIRMED    9.488036   170.538750       0.146   \n",
       "1  10797460  K00752.02       CONFIRMED   54.418383   162.513840       0.586   \n",
       "2  10811496  K00753.01       CANDIDATE   19.899140   175.850252       0.969   \n",
       "3  10848459  K00754.01  FALSE POSITIVE    1.736952   170.307565       1.276   \n",
       "4  10854555  K00755.01       CONFIRMED    2.525592   171.595550       0.701   \n",
       "\n",
       "   koi_duration  koi_depth  koi_prad  koi_teq  koi_model_snr  koi_steff  \\\n",
       "0       2.95750      615.8      2.26    793.0           35.8     5455.0   \n",
       "1       4.50700      874.8      2.83    443.0           25.8     5455.0   \n",
       "2       1.78220    10829.0     14.60    638.0           76.3     5853.0   \n",
       "3       2.40641     8079.2     33.46   1395.0          505.6     5805.0   \n",
       "4       1.65450      603.3      2.75   1406.0           40.9     6031.0   \n",
       "\n",
       "   koi_srad         ra        dec  koi_kepmag  \n",
       "0     0.927  291.93423  48.141651      15.347  \n",
       "1     0.927  291.93423  48.141651      15.347  \n",
       "2     0.868  297.00482  48.134129      15.436  \n",
       "3     0.791  285.53461  48.285210      15.597  \n",
       "4     1.046  288.75488  48.226200      15.509  "
      ]
     },
     "execution_count": 42,
     "metadata": {},
     "output_type": "execute_result"
    }
   ],
   "source": [
    "import matplotlib.pyplot as plt\n",
    "import numpy as np\n",
    "import pandas as pd\n",
    "import seaborn as sns\n",
    "%matplotlib inline\n",
    "\n",
    "koi = pd.read_csv('model_training/kepler_objects_of_interest.csv')\n",
    "koi.drop(columns = ['koi_fpflag_nt', 'koi_fpflag_ss', 'koi_fpflag_co', 'koi_fpflag_ec'], inplace=True)\n",
    "koi.head()"
   ]
  },
  {
   "cell_type": "markdown",
   "id": "ed70f30d",
   "metadata": {},
   "source": [
    "#### All objects with null data values and some irrelevant columns were removed prior to downloading from website as csv (as a result, this data set contains 9200 out of the 9564 total objects stored in the Cumulative KOI Dataset)\n",
    "##### Source: https://exoplanetarchive.ipac.caltech.edu/cgi-bin/TblView/nph-tblView?app=ExoTbls&config=cumulative"
   ]
  },
  {
   "cell_type": "code",
   "execution_count": 43,
   "id": "1651317d",
   "metadata": {},
   "outputs": [
    {
     "data": {
      "text/plain": [
       "kepid              0\n",
       "kepoi_name         0\n",
       "koi_disposition    0\n",
       "koi_period         0\n",
       "koi_time0bk        0\n",
       "koi_impact         0\n",
       "koi_duration       0\n",
       "koi_depth          0\n",
       "koi_prad           0\n",
       "koi_teq            0\n",
       "koi_model_snr      0\n",
       "koi_steff          0\n",
       "koi_srad           0\n",
       "ra                 0\n",
       "dec                0\n",
       "koi_kepmag         0\n",
       "dtype: int64"
      ]
     },
     "execution_count": 43,
     "metadata": {},
     "output_type": "execute_result"
    }
   ],
   "source": [
    "koi.isnull().sum() "
   ]
  },
  {
   "cell_type": "markdown",
   "id": "4fe3d43a",
   "metadata": {},
   "source": [
    "#### Saving a dataframe of KOI candidates with only the columns 'kepid' and 'kepoi_name'"
   ]
  },
  {
   "cell_type": "code",
   "execution_count": 44,
   "id": "1186acc2",
   "metadata": {},
   "outputs": [],
   "source": [
    "koi_candidate_ids = koi.loc[koi['koi_disposition'] == 'CANDIDATE'].copy()[['kepid', 'kepoi_name']]\n",
    "koi_candidate_ids.reset_index(inplace=True)\n",
    "koi_candidate_ids.drop(columns = ['index'], inplace=True)"
   ]
  },
  {
   "cell_type": "markdown",
   "id": "8abeee23",
   "metadata": {},
   "source": [
    "#### Dropping unnecessary id/name columns"
   ]
  },
  {
   "cell_type": "code",
   "execution_count": 45,
   "id": "ec96b6d6",
   "metadata": {},
   "outputs": [],
   "source": [
    "koi.drop(columns = ['kepid', 'kepoi_name'], inplace=True)"
   ]
  },
  {
   "cell_type": "markdown",
   "id": "40306bd4",
   "metadata": {},
   "source": [
    "#### Separating out the KOI Candidates"
   ]
  },
  {
   "cell_type": "code",
   "execution_count": 46,
   "id": "af0e6a6d",
   "metadata": {},
   "outputs": [],
   "source": [
    "koi_candidates = koi.loc[koi['koi_disposition'] == 'CANDIDATE'].copy()"
   ]
  },
  {
   "cell_type": "code",
   "execution_count": 47,
   "id": "6239c49e",
   "metadata": {},
   "outputs": [],
   "source": [
    "koi_candidates.drop(columns = ['koi_disposition'], inplace=True)"
   ]
  },
  {
   "cell_type": "code",
   "execution_count": 48,
   "id": "58dfaad5",
   "metadata": {},
   "outputs": [],
   "source": [
    "koi_features = koi.loc[koi['koi_disposition'] != 'CANDIDATE'].copy()"
   ]
  },
  {
   "cell_type": "markdown",
   "id": "41c267aa",
   "metadata": {},
   "source": [
    "#### Separating out labels & features"
   ]
  },
  {
   "cell_type": "code",
   "execution_count": 49,
   "id": "0a7ee27b",
   "metadata": {},
   "outputs": [],
   "source": [
    "koi_labels = koi_features['koi_disposition'].to_frame()"
   ]
  },
  {
   "cell_type": "code",
   "execution_count": 50,
   "id": "b6de9925",
   "metadata": {
    "scrolled": true
   },
   "outputs": [],
   "source": [
    "koi_features.drop(columns = ['koi_disposition'], inplace=True)"
   ]
  },
  {
   "cell_type": "markdown",
   "id": "d10c74cb",
   "metadata": {},
   "source": [
    "#### Splitting data into train, validation, and test set"
   ]
  },
  {
   "cell_type": "code",
   "execution_count": 51,
   "id": "a2f1b3ec",
   "metadata": {},
   "outputs": [],
   "source": [
    "from sklearn.model_selection import train_test_split"
   ]
  },
  {
   "cell_type": "code",
   "execution_count": 52,
   "id": "cad1b7fd",
   "metadata": {},
   "outputs": [],
   "source": [
    "train_features, test_features, train_labels, test_labels = train_test_split(koi_features, koi_labels, test_size=0.4, random_state=25)\n",
    "eval_features, test_features, eval_labels, test_labels = train_test_split(test_features, test_labels, test_size=0.5, random_state=25)"
   ]
  },
  {
   "cell_type": "markdown",
   "id": "daa3558f",
   "metadata": {},
   "source": [
    "#### Prior to training the models, my predictions as to which models will perform best overall are as follows:\n",
    "##### From best to worst. . .\n",
    "1. Multilayer Perceptron\n",
    "2. Gradient Boosted Trees \n",
    "3. Random Forest\n",
    "4. Logistic Regression"
   ]
  },
  {
   "cell_type": "markdown",
   "id": "ead4f7b2",
   "metadata": {},
   "source": [
    "## Logistic Regression"
   ]
  },
  {
   "cell_type": "code",
   "execution_count": 13,
   "id": "159ca1fa",
   "metadata": {},
   "outputs": [],
   "source": [
    "import joblib\n",
    "import pandas as pd\n",
    "from sklearn.linear_model import LogisticRegression\n",
    "from sklearn.model_selection import GridSearchCV\n",
    "from sklearn.exceptions import ConvergenceWarning\n",
    "import warnings\n",
    "import time\n",
    "\n",
    "# Ignores certain warnings\n",
    "warnings.filterwarnings('ignore', category=FutureWarning)\n",
    "warnings.filterwarnings('ignore', category=DeprecationWarning)\n",
    "warnings.filterwarnings('ignore', category=ConvergenceWarning)"
   ]
  },
  {
   "cell_type": "code",
   "execution_count": 14,
   "id": "25d72d58",
   "metadata": {},
   "outputs": [],
   "source": [
    "def print_results(results): # same function used for the training of all 5 models\n",
    "    print(f'BEST PARAMS: {results.best_params_}\\n')\n",
    "\n",
    "    means = results.cv_results_['mean_test_score']\n",
    "    stds = results.cv_results_['std_test_score']\n",
    "    for mean, std, params in zip(means, stds, results.cv_results_['params']):\n",
    "        print(f'{mean:.3f} (+/-{std*2:.3f}) for {params}')"
   ]
  },
  {
   "cell_type": "code",
   "execution_count": 154,
   "id": "cd914e6b",
   "metadata": {
    "scrolled": true
   },
   "outputs": [
    {
     "name": "stdout",
     "output_type": "stream",
     "text": [
      "BEST PARAMS: {'C': 0.1, 'max_iter': 10000}\n",
      "\n",
      "0.840 (+/-0.020) for {'C': 0.1, 'max_iter': 100}\n",
      "0.843 (+/-0.029) for {'C': 0.1, 'max_iter': 10000}\n",
      "0.840 (+/-0.025) for {'C': 1, 'max_iter': 100}\n",
      "0.843 (+/-0.028) for {'C': 1, 'max_iter': 10000}\n",
      "0.842 (+/-0.025) for {'C': 10, 'max_iter': 100}\n",
      "0.840 (+/-0.028) for {'C': 10, 'max_iter': 10000}\n",
      "0.842 (+/-0.022) for {'C': 100, 'max_iter': 100}\n",
      "0.841 (+/-0.026) for {'C': 100, 'max_iter': 10000}\n",
      "--- 11.654513120651245 seconds ---\n"
     ]
    }
   ],
   "source": [
    "lr = LogisticRegression()\n",
    "parameters = {\n",
    "    'C': [0.1, 1, 10, 100],\n",
    "    'max_iter': [100, 10000]\n",
    "}\n",
    "\n",
    "start_time = time.time()\n",
    "cv = GridSearchCV(lr, parameters, cv=5)\n",
    "cv.fit(train_features, train_labels.values.ravel())\n",
    "\n",
    "print_results(cv)\n",
    "print(f'--- {time.time() - start_time} seconds ---')"
   ]
  },
  {
   "cell_type": "code",
   "execution_count": 39,
   "id": "758bf780",
   "metadata": {},
   "outputs": [
    {
     "data": {
      "text/plain": [
       "['model_training/LR_koi_model.pkl']"
      ]
     },
     "execution_count": 39,
     "metadata": {},
     "output_type": "execute_result"
    }
   ],
   "source": [
    "joblib.dump(cv.best_estimator_, 'model_training/LR_koi_model.pkl')"
   ]
  },
  {
   "cell_type": "markdown",
   "id": "4d038ce0",
   "metadata": {},
   "source": [
    "## Multilayer Perceptron"
   ]
  },
  {
   "cell_type": "code",
   "execution_count": 156,
   "id": "da0b2190",
   "metadata": {},
   "outputs": [],
   "source": [
    "import joblib\n",
    "import pandas as pd\n",
    "from sklearn.model_selection import GridSearchCV\n",
    "from sklearn.neural_network import MLPClassifier\n",
    "from sklearn.exceptions import ConvergenceWarning\n",
    "import warnings\n",
    "import time\n",
    "\n",
    "# Ignores certain warnings\n",
    "warnings.filterwarnings('ignore', category=FutureWarning)\n",
    "warnings.filterwarnings('ignore', category=DeprecationWarning)\n",
    "# warnings.filterwarnings('ignore', category=ConvergenceWarning)"
   ]
  },
  {
   "cell_type": "code",
   "execution_count": 157,
   "id": "faf8e54c",
   "metadata": {
    "scrolled": false
   },
   "outputs": [
    {
     "name": "stdout",
     "output_type": "stream",
     "text": [
      "BEST PARAMS: {'activation': 'logistic', 'hidden_layer_sizes': (50,), 'learning_rate': 'adaptive'}\n",
      "\n",
      "0.840 (+/-0.041) for {'activation': 'relu', 'hidden_layer_sizes': (50,), 'learning_rate': 'constant'}\n",
      "0.807 (+/-0.116) for {'activation': 'relu', 'hidden_layer_sizes': (50,), 'learning_rate': 'invscaling'}\n",
      "0.807 (+/-0.057) for {'activation': 'relu', 'hidden_layer_sizes': (50,), 'learning_rate': 'adaptive'}\n",
      "0.797 (+/-0.091) for {'activation': 'relu', 'hidden_layer_sizes': (100,), 'learning_rate': 'constant'}\n",
      "0.818 (+/-0.060) for {'activation': 'relu', 'hidden_layer_sizes': (100,), 'learning_rate': 'invscaling'}\n",
      "0.774 (+/-0.087) for {'activation': 'relu', 'hidden_layer_sizes': (100,), 'learning_rate': 'adaptive'}\n",
      "0.805 (+/-0.032) for {'activation': 'tanh', 'hidden_layer_sizes': (50,), 'learning_rate': 'constant'}\n",
      "0.788 (+/-0.034) for {'activation': 'tanh', 'hidden_layer_sizes': (50,), 'learning_rate': 'invscaling'}\n",
      "0.801 (+/-0.031) for {'activation': 'tanh', 'hidden_layer_sizes': (50,), 'learning_rate': 'adaptive'}\n",
      "0.806 (+/-0.025) for {'activation': 'tanh', 'hidden_layer_sizes': (100,), 'learning_rate': 'constant'}\n",
      "0.805 (+/-0.027) for {'activation': 'tanh', 'hidden_layer_sizes': (100,), 'learning_rate': 'invscaling'}\n",
      "0.812 (+/-0.038) for {'activation': 'tanh', 'hidden_layer_sizes': (100,), 'learning_rate': 'adaptive'}\n",
      "0.844 (+/-0.046) for {'activation': 'logistic', 'hidden_layer_sizes': (50,), 'learning_rate': 'constant'}\n",
      "0.846 (+/-0.027) for {'activation': 'logistic', 'hidden_layer_sizes': (50,), 'learning_rate': 'invscaling'}\n",
      "0.851 (+/-0.030) for {'activation': 'logistic', 'hidden_layer_sizes': (50,), 'learning_rate': 'adaptive'}\n",
      "0.845 (+/-0.032) for {'activation': 'logistic', 'hidden_layer_sizes': (100,), 'learning_rate': 'constant'}\n",
      "0.849 (+/-0.022) for {'activation': 'logistic', 'hidden_layer_sizes': (100,), 'learning_rate': 'invscaling'}\n",
      "0.846 (+/-0.036) for {'activation': 'logistic', 'hidden_layer_sizes': (100,), 'learning_rate': 'adaptive'}\n",
      "--- 63.28857469558716 seconds ---\n"
     ]
    }
   ],
   "source": [
    "mlp = MLPClassifier()\n",
    "parameters = {\n",
    "    'hidden_layer_sizes': [(50,), (100,)],\n",
    "    'activation': ['relu', 'tanh', 'logistic'], #['relu', 'tanh', 'logistic'],\n",
    "    'learning_rate': ['constant', 'invscaling', 'adaptive'] #['constant' = 34 sec, 'invscaling' = 30 sec, 'adaptive' = 36 sec]\n",
    "}\n",
    "\n",
    "start_time = time.time()\n",
    "cv = GridSearchCV(mlp, parameters, cv=5)\n",
    "cv.fit(train_features, train_labels.values.ravel())\n",
    "\n",
    "print_results(cv)\n",
    "print(f'--- {time.time() - start_time} seconds ---')"
   ]
  },
  {
   "cell_type": "code",
   "execution_count": 40,
   "id": "eae7f2fc",
   "metadata": {},
   "outputs": [
    {
     "data": {
      "text/plain": [
       "['model_training/MLP_koi_model.pkl']"
      ]
     },
     "execution_count": 40,
     "metadata": {},
     "output_type": "execute_result"
    }
   ],
   "source": [
    "joblib.dump(cv.best_estimator_, 'model_training/MLP_koi_model.pkl')"
   ]
  },
  {
   "cell_type": "markdown",
   "id": "376d76d7",
   "metadata": {},
   "source": [
    "## Random Forest"
   ]
  },
  {
   "cell_type": "code",
   "execution_count": 159,
   "id": "34810182",
   "metadata": {},
   "outputs": [],
   "source": [
    "import joblib\n",
    "import pandas as pd\n",
    "from sklearn.ensemble import RandomForestClassifier\n",
    "from sklearn.model_selection import GridSearchCV\n",
    "from sklearn.exceptions import ConvergenceWarning\n",
    "import warnings\n",
    "import time\n",
    "\n",
    "# Ignores certain warnings\n",
    "warnings.filterwarnings('ignore', category=FutureWarning)\n",
    "warnings.filterwarnings('ignore', category=DeprecationWarning)\n",
    "# warnings.filterwarnings('ignore', category=ConvergenceWarning)"
   ]
  },
  {
   "cell_type": "code",
   "execution_count": 160,
   "id": "acb2978c",
   "metadata": {},
   "outputs": [
    {
     "name": "stdout",
     "output_type": "stream",
     "text": [
      "BEST PARAMS: {'max_depth': 32, 'n_estimators': 250}\n",
      "\n",
      "0.834 (+/-0.048) for {'max_depth': 2, 'n_estimators': 5}\n",
      "0.849 (+/-0.042) for {'max_depth': 2, 'n_estimators': 50}\n",
      "0.858 (+/-0.060) for {'max_depth': 2, 'n_estimators': 250}\n",
      "0.858 (+/-0.037) for {'max_depth': 4, 'n_estimators': 5}\n",
      "0.883 (+/-0.025) for {'max_depth': 4, 'n_estimators': 50}\n",
      "0.890 (+/-0.017) for {'max_depth': 4, 'n_estimators': 250}\n",
      "0.897 (+/-0.019) for {'max_depth': 8, 'n_estimators': 5}\n",
      "0.910 (+/-0.023) for {'max_depth': 8, 'n_estimators': 50}\n",
      "0.911 (+/-0.021) for {'max_depth': 8, 'n_estimators': 250}\n",
      "0.903 (+/-0.031) for {'max_depth': 16, 'n_estimators': 5}\n",
      "0.919 (+/-0.023) for {'max_depth': 16, 'n_estimators': 50}\n",
      "0.922 (+/-0.024) for {'max_depth': 16, 'n_estimators': 250}\n",
      "0.901 (+/-0.024) for {'max_depth': 32, 'n_estimators': 5}\n",
      "0.917 (+/-0.018) for {'max_depth': 32, 'n_estimators': 50}\n",
      "0.923 (+/-0.021) for {'max_depth': 32, 'n_estimators': 250}\n",
      "0.900 (+/-0.032) for {'max_depth': None, 'n_estimators': 5}\n",
      "0.919 (+/-0.014) for {'max_depth': None, 'n_estimators': 50}\n",
      "0.921 (+/-0.021) for {'max_depth': None, 'n_estimators': 250}\n",
      "--- 35.99557065963745 seconds ---\n"
     ]
    }
   ],
   "source": [
    "rf = RandomForestClassifier()\n",
    "parameters = {\n",
    "    'n_estimators': [5, 50, 250],\n",
    "    'max_depth': [2, 4, 8, 16, 32, None] # None will just not limit the depth\n",
    "}\n",
    "\n",
    "start_time = time.time()\n",
    "cv = GridSearchCV(rf, parameters, cv=5)\n",
    "cv.fit(train_features, train_labels.values.ravel())\n",
    "\n",
    "print_results(cv)\n",
    "print(f'--- {time.time() - start_time} seconds ---')"
   ]
  },
  {
   "cell_type": "code",
   "execution_count": 38,
   "id": "994f13d3",
   "metadata": {
    "scrolled": true
   },
   "outputs": [
    {
     "data": {
      "text/plain": [
       "['model_training/RF_koi_model.pkl']"
      ]
     },
     "execution_count": 38,
     "metadata": {},
     "output_type": "execute_result"
    }
   ],
   "source": [
    "joblib.dump(cv.best_estimator_, 'model_training/RF_koi_model.pkl')"
   ]
  },
  {
   "cell_type": "markdown",
   "id": "20e26067",
   "metadata": {},
   "source": [
    "## Gradient Boosted Trees"
   ]
  },
  {
   "cell_type": "code",
   "execution_count": 15,
   "id": "30f3cd6d",
   "metadata": {},
   "outputs": [],
   "source": [
    "import joblib\n",
    "import pandas as pd\n",
    "from sklearn.ensemble import GradientBoostingClassifier\n",
    "from sklearn.model_selection import GridSearchCV\n",
    "from sklearn.exceptions import ConvergenceWarning\n",
    "import warnings\n",
    "import time\n",
    "\n",
    "# Ignores certain warnings\n",
    "warnings.filterwarnings('ignore', category=FutureWarning)\n",
    "warnings.filterwarnings('ignore', category=DeprecationWarning)\n",
    "# warnings.filterwarnings('ignore', category=ConvergenceWarning)"
   ]
  },
  {
   "cell_type": "code",
   "execution_count": 16,
   "id": "1d7f00df",
   "metadata": {
    "scrolled": false
   },
   "outputs": [
    {
     "name": "stdout",
     "output_type": "stream",
     "text": [
      "BEST PARAMS: {'learning_rate': 0.1, 'max_depth': 7, 'n_estimators': 1000}\n",
      "\n",
      "0.899 (+/-0.018) for {'learning_rate': 0.01, 'max_depth': 5, 'n_estimators': 100}\n",
      "0.925 (+/-0.017) for {'learning_rate': 0.01, 'max_depth': 5, 'n_estimators': 500}\n",
      "0.925 (+/-0.020) for {'learning_rate': 0.01, 'max_depth': 5, 'n_estimators': 1000}\n",
      "0.908 (+/-0.025) for {'learning_rate': 0.01, 'max_depth': 7, 'n_estimators': 100}\n",
      "0.920 (+/-0.023) for {'learning_rate': 0.01, 'max_depth': 7, 'n_estimators': 500}\n",
      "0.926 (+/-0.020) for {'learning_rate': 0.01, 'max_depth': 7, 'n_estimators': 1000}\n",
      "0.905 (+/-0.024) for {'learning_rate': 0.01, 'max_depth': 9, 'n_estimators': 100}\n",
      "0.918 (+/-0.019) for {'learning_rate': 0.01, 'max_depth': 9, 'n_estimators': 500}\n",
      "0.926 (+/-0.018) for {'learning_rate': 0.01, 'max_depth': 9, 'n_estimators': 1000}\n",
      "0.926 (+/-0.025) for {'learning_rate': 0.1, 'max_depth': 5, 'n_estimators': 100}\n",
      "0.929 (+/-0.023) for {'learning_rate': 0.1, 'max_depth': 5, 'n_estimators': 500}\n",
      "0.928 (+/-0.025) for {'learning_rate': 0.1, 'max_depth': 5, 'n_estimators': 1000}\n",
      "0.926 (+/-0.023) for {'learning_rate': 0.1, 'max_depth': 7, 'n_estimators': 100}\n",
      "0.929 (+/-0.022) for {'learning_rate': 0.1, 'max_depth': 7, 'n_estimators': 500}\n",
      "0.930 (+/-0.021) for {'learning_rate': 0.1, 'max_depth': 7, 'n_estimators': 1000}\n",
      "0.923 (+/-0.019) for {'learning_rate': 0.1, 'max_depth': 9, 'n_estimators': 100}\n",
      "0.930 (+/-0.019) for {'learning_rate': 0.1, 'max_depth': 9, 'n_estimators': 500}\n",
      "0.929 (+/-0.019) for {'learning_rate': 0.1, 'max_depth': 9, 'n_estimators': 1000}\n",
      "0.923 (+/-0.016) for {'learning_rate': 1, 'max_depth': 5, 'n_estimators': 100}\n",
      "0.926 (+/-0.021) for {'learning_rate': 1, 'max_depth': 5, 'n_estimators': 500}\n",
      "0.926 (+/-0.019) for {'learning_rate': 1, 'max_depth': 5, 'n_estimators': 1000}\n",
      "0.924 (+/-0.022) for {'learning_rate': 1, 'max_depth': 7, 'n_estimators': 100}\n",
      "0.927 (+/-0.022) for {'learning_rate': 1, 'max_depth': 7, 'n_estimators': 500}\n",
      "0.926 (+/-0.013) for {'learning_rate': 1, 'max_depth': 7, 'n_estimators': 1000}\n",
      "0.926 (+/-0.025) for {'learning_rate': 1, 'max_depth': 9, 'n_estimators': 100}\n",
      "0.924 (+/-0.024) for {'learning_rate': 1, 'max_depth': 9, 'n_estimators': 500}\n",
      "0.926 (+/-0.016) for {'learning_rate': 1, 'max_depth': 9, 'n_estimators': 1000}\n",
      "--- 1007.1355044841766 seconds ---\n"
     ]
    }
   ],
   "source": [
    "gb = GradientBoostingClassifier()\n",
    "parameters = {\n",
    "    'n_estimators': [100, 500, 1000],\n",
    "    'max_depth': [5, 7, 9],\n",
    "    'learning_rate': [0.01, 0.1, 1]\n",
    "}\n",
    "\n",
    "start_time = time.time()\n",
    "cv = GridSearchCV(gb, parameters, cv=5)\n",
    "cv.fit(train_features, train_labels.values.ravel())\n",
    "\n",
    "print_results(cv)\n",
    "print(f'--- {time.time() - start_time} seconds ---')"
   ]
  },
  {
   "cell_type": "code",
   "execution_count": 37,
   "id": "0b1750f0",
   "metadata": {},
   "outputs": [
    {
     "data": {
      "text/plain": [
       "['model_training/GB_koi_model.pkl']"
      ]
     },
     "execution_count": 37,
     "metadata": {},
     "output_type": "execute_result"
    }
   ],
   "source": [
    "joblib.dump(cv.best_estimator_, 'model_training/GB_koi_model.pkl')"
   ]
  },
  {
   "cell_type": "markdown",
   "id": "d674c007",
   "metadata": {},
   "source": [
    "# Model Evaluation"
   ]
  },
  {
   "cell_type": "code",
   "execution_count": 18,
   "id": "2a06f565",
   "metadata": {},
   "outputs": [],
   "source": [
    "import joblib\n",
    "import pandas as pd\n",
    "from sklearn.metrics import accuracy_score, precision_score, recall_score\n",
    "from time import time"
   ]
  },
  {
   "cell_type": "markdown",
   "id": "a285db44",
   "metadata": {},
   "source": [
    "### Read in models from files"
   ]
  },
  {
   "cell_type": "code",
   "execution_count": 19,
   "id": "c8d65804",
   "metadata": {},
   "outputs": [],
   "source": [
    "models = {}\n",
    "\n",
    "for mdl in ['LR', 'MLP', 'RF', 'GB']:\n",
    "    models[mdl] = joblib.load(f'{mdl}_koi_model.pkl')"
   ]
  },
  {
   "cell_type": "markdown",
   "id": "5cc04271",
   "metadata": {},
   "source": [
    "### Evalatuating models based on accuracy, precision, recall, and predict time"
   ]
  },
  {
   "cell_type": "code",
   "execution_count": 34,
   "id": "cab1f9f6",
   "metadata": {},
   "outputs": [],
   "source": [
    "def evaluate_model(name, model, features, labels):\n",
    "    start = time()\n",
    "    pred = model.predict(features)\n",
    "    end = time()\n",
    "    accuracy = round(accuracy_score(labels, pred), 4)\n",
    "    precision = round(precision_score(labels, pred, pos_label = \"CONFIRMED\"), 4)\n",
    "    recall = round(recall_score(labels, pred, pos_label = \"CONFIRMED\"), 4)\n",
    "    print(f'{name} -- Accuracy: {accuracy} / Precision: {precision} / Recall: {recall} / Predict Time: {(end - start)*1000:.3f} ms')"
   ]
  },
  {
   "cell_type": "code",
   "execution_count": 35,
   "id": "2670f3ab",
   "metadata": {
    "scrolled": true
   },
   "outputs": [
    {
     "name": "stdout",
     "output_type": "stream",
     "text": [
      "FOR REFERENCE:\n",
      "Accuracy = proportion of objects that were classified correctly\n",
      "Precision = proportion of predicted exoplanets that were actually confirmed exoplanets\n",
      "Recall = proportion of confirmed exoplanets that were predicted as exoplanets\n",
      "\n",
      "EVALUATION RESULTS:\n",
      "LR -- Accuracy: 0.8393 / Precision: 0.7483 / Recall: 0.8406 / Predict Time: 4.695 ms\n",
      "MLP -- Accuracy: 0.8759 / Precision: 0.7946 / Recall: 0.888 / Predict Time: 4.000 ms\n",
      "RF -- Accuracy: 0.9166 / Precision: 0.8845 / Recall: 0.8861 / Predict Time: 54.021 ms\n",
      "GB -- Accuracy: 0.9276 / Precision: 0.8879 / Recall: 0.9165 / Predict Time: 47.967 ms\n"
     ]
    }
   ],
   "source": [
    "print(\"FOR REFERENCE:\")\n",
    "print(\"Accuracy = proportion of objects that were classified correctly\")\n",
    "print(\"Precision = proportion of predicted exoplanets that were actually confirmed exoplanets\")\n",
    "print(\"Recall = proportion of confirmed exoplanets that were predicted as exoplanets\\n\")\n",
    "print(\"EVALUATION RESULTS:\")\n",
    "for name, mdl in models.items():\n",
    "    evaluate_model(name, mdl, eval_features, eval_labels)"
   ]
  },
  {
   "cell_type": "markdown",
   "id": "593d56b5",
   "metadata": {},
   "source": [
    "### Final Performance Ranking"
   ]
  },
  {
   "cell_type": "markdown",
   "id": "be1a4bb0",
   "metadata": {},
   "source": [
    "1. Gradient Boosted Trees - 1st in accuracy, 1st in precision, 1st in recall, 3rd in predict time\n",
    "2. Random Forest - 2nd in accuracy, 2nd in precision, 3rd in recall, 4th in predict time\n",
    "3. Multilayer Perceptron - 3rd in accuracy, 3rd in precision, 3rd in recall, 2nd in predict time\n",
    "4. Logistic Regression - 4th in accuracy, 4th in precision, 4th in recall, 1st in predict time"
   ]
  },
  {
   "cell_type": "markdown",
   "id": "cc249ba7",
   "metadata": {},
   "source": [
    "### Evaluating best model on test set"
   ]
  },
  {
   "cell_type": "code",
   "execution_count": 36,
   "id": "4e61d2e8",
   "metadata": {},
   "outputs": [
    {
     "name": "stdout",
     "output_type": "stream",
     "text": [
      "GB -- Accuracy: 0.9152 / Precision: 0.8867 / Recall: 0.8883 / Predict Time: 49.531 ms\n"
     ]
    }
   ],
   "source": [
    "evaluate_model('GB', models['GB'], test_features, test_labels)"
   ]
  },
  {
   "cell_type": "markdown",
   "id": "87c4f4b7",
   "metadata": {},
   "source": [
    "# Conclusion\n",
    "#### The gradient-boosted trees model was our best model. When tested on data it had never encountered in training. . .\n",
    "- It correctly classified 91.52% of all objects\n",
    "- Of the objects it classified as exoplanets, 88.67% were actually confirmed exoplanets\n",
    "- It correctly classified 88.83% of the confirmed exoplanets as being exoplanets"
   ]
  },
  {
   "cell_type": "markdown",
   "id": "1fbff0c1",
   "metadata": {},
   "source": [
    "# Predictions for KOI candidates using our best model"
   ]
  },
  {
   "cell_type": "code",
   "execution_count": 30,
   "id": "4c2b3e29",
   "metadata": {},
   "outputs": [
    {
     "name": "stdout",
     "output_type": "stream",
     "text": [
      "Number of KOI candidates predicted to be exoplanets: 584\n",
      "Number of KOI candidates predicted to be false positives: 1366\n",
      "\n",
      "The predictions have been exported as a: \n",
      "- koi_candidate_predictions.csv \n",
      "- koi_candidate_predictions.xlsx\n"
     ]
    }
   ],
   "source": [
    "GB_model = joblib.load('model_training/GB_koi_model.pkl')\n",
    "pred = GB_model.predict(koi_candidates)\n",
    "print(f'Number of KOI candidates predicted to be exoplanets: {np.count_nonzero(pred == \"CONFIRMED\")}')\n",
    "print(f'Number of KOI candidates predicted to be false positives: {np.count_nonzero(pred == \"FALSE POSITIVE\")}')\n",
    "predictions = pd.DataFrame(pred, columns = ['Exoplanet Prediction'])\n",
    "koi_candidate_ids.rename(columns={\"kepid\": \"Kepler ID\", \"kepoi_name\": \"KOI Name\"}, inplace=True)\n",
    "candidate_predictions = pd.concat([koi_candidate_ids, predictions], axis=1)\n",
    "candidate_predictions.to_csv('koi_candidate_predictions.csv', index=False)\n",
    "candidate_predictions.to_excel('koi_candidate_predictions.xlsx', sheet_name='PREDICTIONS', index=False)\n",
    "print(\"\\nThe predictions have been exported as a: \\n- koi_candidate_predictions.csv \\n- koi_candidate_predictions.xlsx\")"
   ]
  }
 ],
 "metadata": {
  "kernelspec": {
   "display_name": "Python 3 (ipykernel)",
   "language": "python",
   "name": "python3"
  },
  "language_info": {
   "codemirror_mode": {
    "name": "ipython",
    "version": 3
   },
   "file_extension": ".py",
   "mimetype": "text/x-python",
   "name": "python",
   "nbconvert_exporter": "python",
   "pygments_lexer": "ipython3",
   "version": "3.9.7"
  }
 },
 "nbformat": 4,
 "nbformat_minor": 5
}
